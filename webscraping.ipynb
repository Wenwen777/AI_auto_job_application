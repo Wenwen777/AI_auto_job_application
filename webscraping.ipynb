{
 "cells": [
  {
   "cell_type": "code",
   "execution_count": null,
   "id": "91acbd1b",
   "metadata": {},
   "outputs": [],
   "source": [
    "!pip install python-dotenv"
   ]
  },
  {
   "cell_type": "code",
   "execution_count": null,
   "id": "ec3a0989",
   "metadata": {},
   "outputs": [],
   "source": [
    "from dotenv import load_dotenv\n",
    "import os\n",
    "\n",
    "load_dotenv()"
   ]
  },
  {
   "cell_type": "code",
   "execution_count": null,
   "id": "9cf090c9",
   "metadata": {},
   "outputs": [
    {
     "name": "stdout",
     "output_type": "stream",
     "text": [
      "\n",
      "Job 1:\n",
      "Title: 2000+ Machine Learning jobs in Boston, Massachusetts ...\n",
      "Link: https://www.linkedin.com/jobs/machine-learning-jobs-boston-ma\n",
      "Snippet: 2,000+ Machine Learning Jobs in Boston, Massachusetts, United States (127 new) · Machine Learning Scientist I · Machine Learning Scientist · Data Scientist Intern.\n",
      "\n",
      "Job 2:\n",
      "Title: 1000+ Machine Learning Engineer jobs in Boston, ...\n",
      "Link: https://www.linkedin.com/jobs/machine-learning-engineer-jobs-boston-ma\n",
      "Snippet: Today's top 1000+ Machine Learning Engineer jobs in Boston, Massachusetts, United States. Leverage your professional network, and get hired.\n",
      "\n",
      "Job 3:\n",
      "Title: 68 Software Engineer Machine Learning jobs in Greater ...\n",
      "Link: https://www.linkedin.com/jobs/software-engineer-machine-learning-jobs-greater-boston\n",
      "Snippet: 68 Software Engineer Machine Learning Jobs in Greater Boston (4 new) ; Meta. Boston, MA $56.25 - $173,000. Actively Hiring ; GSK. Cambridge, MA. Be an early ...\n",
      "\n",
      "Job 4:\n",
      "Title: 690 Lead Machine Learning Engineer jobs in Boston, ...\n",
      "Link: https://ug.linkedin.com/jobs/lead-machine-learning-engineer-jobs-boston-ma?trk=guest_job_details_jd_jserp_more_jobs_link\n",
      "Snippet: Today's top 690 Lead Machine Learning Engineer jobs in Boston, Massachusetts, United States. Leverage your professional network, and get hired.\n",
      "\n",
      "Job 5:\n",
      "Title: Machine Learning Engineer (Boston) - Lendbuzz\n",
      "Link: https://www.linkedin.com/jobs/view/machine-learning-engineer-boston-at-lendbuzz-4203132627\n",
      "Snippet: Design and develop robust, ML pipelines and systems; Implement end-to-end solutions, including architecture design, business logic, and deployment; Drive the ...\n",
      "\n",
      "Job 6:\n",
      "Title: 1000+ Deep Learning jobs in Greater Boston (55 new)\n",
      "Link: https://www.linkedin.com/jobs/deep-learning-jobs-greater-boston\n",
      "Snippet: 1,000+ Deep Learning Jobs in Greater Boston (55 new) ; Cyvl. Boston, MA $150,000 - $180,000 ; Tagup, Inc. Boston, MA $95,000 - $140,000. Be an early applicant.\n",
      "\n",
      "Job 7:\n",
      "Title: 159 Remote Machine Learning Engineer jobs in Greater ...\n",
      "Link: https://www.linkedin.com/jobs/remote-machine-learning-engineer-jobs-greater-boston\n",
      "Snippet: Today's top 159 Remote Machine Learning Engineer jobs in Greater Boston. Leverage your professional network, and get hired. New Remote Machine Learning ...\n",
      "\n",
      "Job 8:\n",
      "Title: Machine Learning Engineer (Boston) - TieTalent\n",
      "Link: https://www.linkedin.com/jobs/view/machine-learning-engineer-boston-at-tietalent-4199934697\n",
      "Snippet: We value independent and critical thinking. We're looking for a Machine Learning Engineer who excels in building and maintaining robust systems that deliver ...\n",
      "\n",
      "Job 9:\n",
      "Title: Chewy hiring Machine Learning Engineer II in Boston, MA\n",
      "Link: https://www.linkedin.com/jobs/view/machine-learning-engineer-ii-at-chewy-4158959396\n",
      "Snippet: As a Machine Learning Engineer (MLE) focused on AI product development, you will design and deploy innovative machine learning models, mentor junior Team ...\n",
      "\n",
      "Job 10:\n",
      "Title: 5 Senior Machine Learning Nlp Engineer jobs in Boston, ...\n",
      "Link: https://www.linkedin.com/jobs/senior-machine-learning-nlp-engineer-jobs-boston-ma\n",
      "Snippet: Today's top 5 Senior Machine Learning Nlp Engineer jobs in Boston, Massachusetts, United States. Leverage your professional network, and get hired.\n"
     ]
    }
   ],
   "source": [
    "import requests\n",
    "\n",
    "def search_linkedin_jobs(query=\"data scientist\", location=\"remote\", api_key=\"YOUR_SERPAPI_KEY\", num_results=10):\n",
    "    params = {\n",
    "        \"engine\": \"google\",\n",
    "        \"q\": f\"site:linkedin.com/jobs {query} {location}\",\n",
    "        \"hl\": \"en\",\n",
    "        \"gl\": \"us\",\n",
    "        \"api_key\": api_key,\n",
    "        \"num\": num_results\n",
    "    }\n",
    "\n",
    "    response = requests.get(\"https://serpapi.com/search\", params=params)\n",
    "    data = response.json()\n",
    "\n",
    "    jobs = []\n",
    "    if \"organic_results\" in data:\n",
    "        for result in data[\"organic_results\"]:\n",
    "            jobs.append({\n",
    "                \"title\": result.get(\"title\"),\n",
    "                \"link\": result.get(\"link\"),\n",
    "                \"snippet\": result.get(\"snippet\")\n",
    "            })\n",
    "\n",
    "    return jobs\n",
    "\n",
    "\n",
    "# Example usage\n",
    "if __name__ == \"__main__\":\n",
    "    API_KEY = os.getenv(\"SERPAPI_API_KEY\")\n",
    "    job_listings = search_linkedin_jobs(\"machine learning engineer\", \"boston\", api_key=API_KEY)\n",
    "\n",
    "    for i, job in enumerate(job_listings, 1):\n",
    "        print(f\"\\nJob {i}:\")\n",
    "        print(f\"Title: {job['title']}\")\n",
    "        print(f\"Link: {job['link']}\")\n",
    "        print(f\"Snippet: {job['snippet']}\")\n"
   ]
  },
  {
   "cell_type": "code",
   "execution_count": null,
   "id": "f5b7b3d1",
   "metadata": {},
   "outputs": [],
   "source": []
  }
 ],
 "metadata": {
  "kernelspec": {
   "display_name": "paralog",
   "language": "python",
   "name": "python3"
  },
  "language_info": {
   "codemirror_mode": {
    "name": "ipython",
    "version": 3
   },
   "file_extension": ".py",
   "mimetype": "text/x-python",
   "name": "python",
   "nbconvert_exporter": "python",
   "pygments_lexer": "ipython3",
   "version": "3.10.13"
  }
 },
 "nbformat": 4,
 "nbformat_minor": 5
}
