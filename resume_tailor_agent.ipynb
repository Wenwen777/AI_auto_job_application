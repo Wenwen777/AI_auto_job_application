{
 "cells": [
  {
   "cell_type": "code",
   "execution_count": null,
   "id": "8c910249",
   "metadata": {},
   "outputs": [],
   "source": [
    "!pip install langchain langgraph openai unstructured"
   ]
  },
  {
   "cell_type": "code",
   "execution_count": null,
   "id": "6e9109af",
   "metadata": {},
   "outputs": [],
   "source": [
    "from langgraph.graph import StateGraph, END\n",
    "from langchain_core.messages import HumanMessage\n",
    "from langchain_openai import ChatOpenAI\n",
    "from langchain_core.runnables import RunnableLambda\n",
    "from dotenv import load_dotenv\n",
    "import os\n",
    "\n",
    "load_dotenv()\n",
    "\n",
    "llm = ChatOpenAI(model=\"gpt-4o\", temperature=0)\n",
    "API_KEY = os.getenv(\"OPEN_AI_API_KEY\")"
   ]
  },
  {
   "cell_type": "code",
   "execution_count": null,
   "id": "80c43f9c",
   "metadata": {},
   "outputs": [],
   "source": [
    "import os\n",
    "os.environ[\"OPENAI_API_KEY\"] = API_KEY  # replace with your key"
   ]
  },
  {
   "cell_type": "code",
   "execution_count": null,
   "id": "ecd30698",
   "metadata": {},
   "outputs": [],
   "source": [
    "from typing import TypedDict, Optional\n",
    "\n",
    "class ResumeState(TypedDict):\n",
    "    resume_text: Optional[str]\n",
    "    job_text: Optional[str]\n",
    "    job_requirements: Optional[str]\n",
    "    tailoring_notes: Optional[str]\n",
    "    tailored_resume: Optional[str]\n"
   ]
  },
  {
   "cell_type": "code",
   "execution_count": null,
   "id": "304aee1c",
   "metadata": {},
   "outputs": [],
   "source": [
    "def parse_resume_node(state):\n",
    "    return {\"resume_text\": state[\"resume_text\"]}\n",
    "\n",
    "def parse_job_node(state):\n",
    "    return {\"job_text\": state[\"job_text\"]}"
   ]
  },
  {
   "cell_type": "code",
   "execution_count": null,
   "id": "89774027",
   "metadata": {},
   "outputs": [],
   "source": [
    "extract_requirements_node = RunnableLambda(\n",
    "    lambda state: {\n",
    "        \"job_requirements\": llm.invoke([\n",
    "            HumanMessage(content=f\"\"\"\n",
    "Given the job description below, extract the key requirements, including:\n",
    "- Required skills\n",
    "- Years of experience\n",
    "- Tools/technologies\n",
    "- Soft skills\n",
    "- Any domain-specific expertise\n",
    "\n",
    "Job Description:\n",
    "{state['job_text']}\n",
    "\"\"\")\n",
    "        ]).content\n",
    "    }\n",
    ")"
   ]
  },
  {
   "cell_type": "code",
   "execution_count": null,
   "id": "ef54d25f",
   "metadata": {},
   "outputs": [],
   "source": [
    "match_skills_node = RunnableLambda(\n",
    "    lambda state: {\n",
    "        \"tailoring_notes\": llm.invoke([\n",
    "            HumanMessage(content=f\"\"\"\n",
    "You are comparing a résumé and a job description.\n",
    "\n",
    "Résumé:\n",
    "{state['resume_text']}\n",
    "\n",
    "Job Requirements:\n",
    "{state['job_requirements']}\n",
    "\n",
    "Identify:\n",
    "- What is already covered in the résumé\n",
    "- What is missing\n",
    "- Suggestions for how to tailor the résumé\n",
    "Return actionable suggestions only.\n",
    "\"\"\")\n",
    "        ]).content\n",
    "    }\n",
    ")\n"
   ]
  },
  {
   "cell_type": "code",
   "execution_count": null,
   "id": "9f60a7ee",
   "metadata": {},
   "outputs": [],
   "source": [
    "tailor_resume_node = RunnableLambda(\n",
    "    lambda state: {\n",
    "        \"tailored_resume\": llm.invoke([\n",
    "            HumanMessage(content=f\"\"\"\n",
    "Tailor the résumé below based on these tailoring notes to match the job requirements.\n",
    "\n",
    "Résumé:\n",
    "{state['resume_text']}\n",
    "\n",
    "Tailoring Notes:\n",
    "{state['tailoring_notes']}\n",
    "\n",
    "Output a polished and tailored résumé. Keep formatting clean.\n",
    "\"\"\")\n",
    "        ]).content\n",
    "    }\n",
    ")\n"
   ]
  },
  {
   "cell_type": "code",
   "execution_count": null,
   "id": "87121de9",
   "metadata": {},
   "outputs": [],
   "source": [
    "graph_builder = StateGraph(ResumeState)\n",
    "\n",
    "graph_builder.add_node(\"ParseResume\", parse_resume_node)\n",
    "graph_builder.add_node(\"ParseJob\", parse_job_node)\n",
    "graph_builder.add_node(\"ExtractRequirements\", extract_requirements_node)\n",
    "graph_builder.add_node(\"MatchSkills\", match_skills_node)\n",
    "graph_builder.add_node(\"TailorResume\", tailor_resume_node)\n",
    "\n",
    "# Edges\n",
    "graph_builder.set_entry_point(\"ParseResume\")\n",
    "graph_builder.add_edge(\"ParseResume\", \"ParseJob\")\n",
    "graph_builder.add_edge(\"ParseJob\", \"ExtractRequirements\")\n",
    "graph_builder.add_edge(\"ExtractRequirements\", \"MatchSkills\")\n",
    "graph_builder.add_edge(\"MatchSkills\", \"TailorResume\")\n",
    "graph_builder.add_edge(\"TailorResume\", END)\n",
    "\n",
    "# Compile\n",
    "graph = graph_builder.compile()\n"
   ]
  },
  {
   "cell_type": "code",
   "execution_count": null,
   "id": "cbd071a8",
   "metadata": {},
   "outputs": [],
   "source": [
    "inputs = {\n",
    "    \"resume_text\": \"<your raw résumé text here>\",\n",
    "    \"job_text\": \"<your job description text here>\"\n",
    "}\n",
    "\n",
    "result = graph.invoke(inputs)\n",
    "\n",
    "print(\"\\nTailored Résumé:\\n\")\n",
    "print(result[\"tailored_resume\"])\n"
   ]
  }
 ],
 "metadata": {
  "language_info": {
   "name": "python"
  }
 },
 "nbformat": 4,
 "nbformat_minor": 5
}
